{
 "cells": [
  {
   "cell_type": "code",
   "execution_count": 32,
   "metadata": {
    "scrolled": true
   },
   "outputs": [
    {
     "name": "stderr",
     "output_type": "stream",
     "text": [
      "<ipython-input-32-107e81382c8a>:25: SettingWithCopyWarning:\n",
      "\n",
      "\n",
      "A value is trying to be set on a copy of a slice from a DataFrame.\n",
      "Try using .loc[row_indexer,col_indexer] = value instead\n",
      "\n",
      "See the caveats in the documentation: https://pandas.pydata.org/pandas-docs/stable/user_guide/indexing.html#returning-a-view-versus-a-copy\n",
      "\n"
     ]
    },
    {
     "data": {
      "text/html": [
       "<!-- http://127.0.0.1:7001/2039637274480/ -->\n",
       "<iframe src=\"http://127.0.0.1:7001/2039637274480/\" width=100% height=800 frameBorder=\"0\"></iframe>"
      ]
     },
     "metadata": {},
     "output_type": "display_data"
    }
   ],
   "source": [
    "import numpy as np\n",
    "import seaborn as sns\n",
    "import pandas as pd\n",
    "import matplotlib.pyplot as plt\n",
    "\n",
    "from sklearn.linear_model import LogisticRegression, LinearRegression\n",
    "from sklearn.model_selection import train_test_split\n",
    "\n",
    "from interpret.glassbox import ExplainableBoostingClassifier\n",
    "from interpret import show\n",
    "\n",
    "from datapull import daily_master, tickers\n",
    "#Set time period to base predictions\n",
    "# i.e. t = 7 will use week before to make prediction for next day.\n",
    "t = 2\n",
    "\n",
    "#Create new features which have open, close, delta, and volume of stock for last t days\n",
    "for ticker in tickers:\n",
    "    for k in range(1,t+1):\n",
    "            daily_master['{}_delta_{}'.format(ticker, k)] = daily_master['{}_delta'.format(ticker)].shift(k)\n",
    "\n",
    "#Remove NaN from dataset after creating lag\n",
    "daily_master = daily_master.dropna()\n",
    "\n",
    "daily_master['Random'] = np.random.randint(10, size=len(daily_master))\n",
    "\n",
    "tick = 'DE'\n",
    "X = daily_master.drop(['{}_close'.format(tick),'{}_delta'.format(tick), 'date'], axis=1)\n",
    "y = daily_master['{}_delta'.format(tick)]\n",
    "\n",
    "\n",
    "X_train, X_test, y_train, y_test = train_test_split(X, y, test_size=0.2, random_state=2)\n",
    "\n",
    "ebm = ExplainableBoostingClassifier().fit(X_train, y_train)\n",
    "\n",
    "\n",
    "\n",
    "ebm_global = ebm.explain_global()\n",
    "\n",
    "show(ebm_global)"
   ]
  }
 ],
 "metadata": {
  "kernelspec": {
   "display_name": "Python 3",
   "language": "python",
   "name": "python3"
  },
  "language_info": {
   "codemirror_mode": {
    "name": "ipython",
    "version": 3
   },
   "file_extension": ".py",
   "mimetype": "text/x-python",
   "name": "python",
   "nbconvert_exporter": "python",
   "pygments_lexer": "ipython3",
   "version": "3.8.3"
  }
 },
 "nbformat": 4,
 "nbformat_minor": 4
}
