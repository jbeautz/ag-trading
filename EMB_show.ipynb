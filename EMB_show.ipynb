{
 "cells": [
  {
   "cell_type": "code",
   "execution_count": 1,
   "metadata": {
    "scrolled": true
   },
   "outputs": [
    {
     "name": "stdout",
     "output_type": "stream",
     "text": [
      "42\n"
     ]
    },
    {
     "data": {
      "text/html": [
       "<!-- http://127.0.0.1:7001/1613457966416/ -->\n",
       "<iframe src=\"http://127.0.0.1:7001/1613457966416/\" width=100% height=800 frameBorder=\"0\"></iframe>"
      ]
     },
     "metadata": {},
     "output_type": "display_data"
    }
   ],
   "source": [
    "# Script to explore financial data and build models to design trading algorithm\n",
    "# By Jack Beautz 01/01/21\n",
    "\n",
    "import numpy as np\n",
    "import seaborn as sns\n",
    "import pandas as pd\n",
    "import matplotlib.pyplot as plt\n",
    "\n",
    "from sklearn.model_selection import train_test_split\n",
    "\n",
    "from interpret.glassbox import ExplainableBoostingClassifier, LogisticRegression\n",
    "from interpret import show\n",
    "\n",
    "from datapull import daily_master, tickers\n",
    "\n",
    "test_lst = []\n",
    "train_lst = []\n",
    "tick = 'AAPL'\n",
    "\n",
    "X = daily_master.drop(['{}_delta'.format(tick), 'date'], axis=1)\n",
    "y = daily_master['{}_delta'.format(tick)]>abs(daily_master['{}_delta_1'.format(tick)]*2)\n",
    "\n",
    "X_train, X_test, y_train, y_test = train_test_split(X, y, test_size=0.33, random_state=2)\n",
    "\n",
    "ebm = ExplainableBoostingClassifier().fit(X_train, y_train)\n",
    "print(sum(ebm.predict(X_test)))\n",
    "test_lst.append(sum(ebm.predict(X_test)==y_test)/len(y_test))\n",
    "train_lst.append(sum(ebm.predict(X_train)==y_train)/len(y_train))\n",
    "\n",
    "\n",
    "ebm_global = ebm.explain_global()\n",
    "\n",
    "show(ebm_global)"
   ]
  }
 ],
 "metadata": {
  "kernelspec": {
   "display_name": "Python 3",
   "language": "python",
   "name": "python3"
  },
  "language_info": {
   "codemirror_mode": {
    "name": "ipython",
    "version": 3
   },
   "file_extension": ".py",
   "mimetype": "text/x-python",
   "name": "python",
   "nbconvert_exporter": "python",
   "pygments_lexer": "ipython3",
   "version": "3.8.3"
  }
 },
 "nbformat": 4,
 "nbformat_minor": 4
}
